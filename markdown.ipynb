{
 "cells": [
  {
   "cell_type": "markdown",
   "id": "6dd1f49c",
   "metadata": {},
   "source": [
    "### Table of Contents\n",
    "* [Markdown Language](#Markdown-Language)\n",
    "    * [การใส่บุลเลท](#การใส่บุลเลท)\n",
    "    * [การขึ้นบรรทัดใหม่](#การขึ้นบรรทัดใหม่)\n",
    "    * [การเน้นข้อความ](#การเน้นข้อความ)\n",
    "    * [การใส่สี](#การใส่สี)\n",
    "    * [การใส่ลิ้งก์](#Hyperlink)\n",
    "    * [การใส่รูป](#Image)\n"
   ]
  },
  {
   "cell_type": "markdown",
   "id": "881033d3",
   "metadata": {},
   "source": [
    "### <span style=color:white>Markdown Language</span>  \n",
    "Markdown Language\n",
    "# Heading 1\n",
    "## Heading 2  \n",
    "Markup Language (HTML)\n",
    "<H1>Heading 1<H1>\n",
    "<H2>Heading 2<H2>  \n",
    "      "
   ]
  },
  {
   "cell_type": "markdown",
   "id": "2465df0f",
   "metadata": {},
   "source": [
    "### การใส่บุลเลท"
   ]
  },
  {
   "cell_type": "markdown",
   "id": "06d04520",
   "metadata": {},
   "source": [
    "* Coffee\n",
    "* Tea\n",
    "* Water\n",
    "1. Coffee\n",
    "    * Mocha\n",
    "    * Latte\n",
    "    * Espresso\n",
    "2. Tea\n",
    "3. Water\n",
    "  \n",
    "    \n",
    "    "
   ]
  },
  {
   "cell_type": "markdown",
   "id": "33910ea2",
   "metadata": {},
   "source": [
    "### การขึ้นบรรทัดใหม่  \n",
    "(ต้องกด  spacebar 2ครั้งก่อนกด enter ถึงจะขึ้นบรทัดใหม่ให้เราจริงๆ)  "
   ]
  },
  {
   "cell_type": "markdown",
   "id": "3c91bb3e",
   "metadata": {},
   "source": [
    "first line.\n",
    "second line.\n",
    "third line.\n",
    "\n",
    "first line.  \n",
    "second line.  \n",
    "third line.  \n",
    "  "
   ]
  },
  {
   "cell_type": "markdown",
   "id": "669f7886",
   "metadata": {},
   "source": [
    "### การเน้นข้อความ  \n",
    "(ใส่ * ครอบกี่ตัวก็ดูเอา)  "
   ]
  },
  {
   "cell_type": "markdown",
   "id": "a9f16c73",
   "metadata": {},
   "source": [
    "ทำตัว*เอียง*ตรงนี้  \n",
    "ทำตัว**หนา**ตรงนี้  \n",
    "ทำตัว***หนาและเอียง***ตรงนี้  \n",
    "ทำ~~ขีดฆ่า~~ตรงนี้  "
   ]
  },
  {
   "cell_type": "markdown",
   "id": "66a13eb8",
   "metadata": {},
   "source": [
    "### การใส่สี  \n",
    "(นำเอาแท็กของ markup มาช่วย)  "
   ]
  },
  {
   "cell_type": "markdown",
   "id": "39639516",
   "metadata": {},
   "source": [
    "This is the <span style=color:red>last</span> chance.  \n",
    "This is the <span style=color:blue;font-size:200%>last</span> chance."
   ]
  },
  {
   "cell_type": "markdown",
   "id": "4ffda0c2",
   "metadata": {},
   "source": [
    "### Hyperlink "
   ]
  },
  {
   "cell_type": "markdown",
   "id": "78fd6546",
   "metadata": {},
   "source": [
    "https://youtube.com.   \n",
    "\n",
    "[Youtube](https://youtube.com)    "
   ]
  },
  {
   "cell_type": "markdown",
   "id": "b84c3930",
   "metadata": {},
   "source": [
    "### Image "
   ]
  },
  {
   "cell_type": "markdown",
   "id": "f6e0d085",
   "metadata": {},
   "source": [
    "![](https://cdn.pixabay.com/photo/2022/09/08/05/35/fog-7440132_1280.jpg)"
   ]
  },
  {
   "cell_type": "markdown",
   "id": "d1e80b0a",
   "metadata": {},
   "source": [
    "วิธีการจัดเก็บโน๊ตบุ๊คและ  \n",
    "วิธีแชร์โน๊ตบุ๊คลง github ให้ผู้อื่นใช้"
   ]
  },
  {
   "cell_type": "markdown",
   "id": "a2b3fe46",
   "metadata": {},
   "source": [
    "### [Go To Top](#Table-of-Contents)"
   ]
  }
 ],
 "metadata": {
  "kernelspec": {
   "display_name": "Python 3 (ipykernel)",
   "language": "python",
   "name": "python3"
  },
  "language_info": {
   "codemirror_mode": {
    "name": "ipython",
    "version": 3
   },
   "file_extension": ".py",
   "mimetype": "text/x-python",
   "name": "python",
   "nbconvert_exporter": "python",
   "pygments_lexer": "ipython3",
   "version": "3.9.12"
  }
 },
 "nbformat": 4,
 "nbformat_minor": 5
}
